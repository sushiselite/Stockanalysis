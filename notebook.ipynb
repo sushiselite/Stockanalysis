{
 "cells": [
  {
   "cell_type": "markdown",
   "metadata": {},
   "source": [
    "To gather data, we will use pandas_datareader. We also need pandas for data manipulation, matplotlib for plotting, sklearn for machine learning, numpy for numerical computations, and backtrader for backtesting.\n",
    "\n",
    "We will first import all the necessary libraries after installing them."
   ]
  },
  {
   "cell_type": "code",
   "execution_count": 88,
   "metadata": {},
   "outputs": [],
   "source": [
    "import pandas as pd\n",
    "from pandas_datareader import data as pdr\n",
    "import matplotlib.pyplot as plt\n",
    "from sklearn.ensemble import RandomForestClassifier\n",
    "from sklearn.preprocessing import MinMaxScaler\n",
    "import numpy as np\n",
    "import backtrader as bt\n",
    "import datetime\n",
    "import yfinance as yf"
   ]
  },
  {
   "cell_type": "markdown",
   "metadata": {},
   "source": [
    "Next, we will fetch the stock data using pandas_datareader. Let us use the 'AAPL' ticker for example, and we are fetching data for a year:"
   ]
  },
  {
   "cell_type": "code",
   "execution_count": 89,
   "metadata": {},
   "outputs": [
    {
     "name": "stdout",
     "output_type": "stream",
     "text": [
      "[*********************100%***********************]  1 of 1 completed\n"
     ]
    }
   ],
   "source": [
    "# Get 'AAPL' stock data for the last year\n",
    "start_date = datetime.datetime.now() - datetime.timedelta(days=365)\n",
    "end_date = datetime.date.today()\n",
    "\n",
    "yf.pdr_override() # <== that's all it takes :-)\n",
    "\n",
    "# download dataframe\n",
    "df= pdr.get_data_yahoo(\"AAPL\", start=start_date, end=end_date)"
   ]
  },
  {
   "cell_type": "markdown",
   "metadata": {},
   "source": [
    "Now that we have the stock data, let's move on to generating the candlestick pattern dataset. We'll be working with the Open, High, Low, and Close (OHLC) data and creating features based on this data.\n",
    "\n",
    "Let's create four features for our model:\n",
    "\n",
    "Open/Close: If the open price is greater than the close price then we will mark it as 1, else we will mark it as 0\n",
    "\n",
    "High/Low: If the difference between high and low prices of the day is greater than 1% then we will mark it as 1, else 0\n",
    "\n",
    "Percentage change: Daily percentage change in prices\n",
    "\n",
    "Volume Shock: If the volume difference is greater than 10% as compared to previous day then we will mark it as 1(Shock), else 0(No Shock)"
   ]
  },
  {
   "cell_type": "code",
   "execution_count": 90,
   "metadata": {},
   "outputs": [],
   "source": [
    "# Define a function to calculate the four features\n",
    "def generate_features(df):\n",
    "    df['Open-Close'] = (df['Open'] - df['Close'])/df['Open']\n",
    "    df['High-Low'] = (df['High'] - df['Low'])/df['Low']\n",
    "    df['percent_change'] = df['Close'].pct_change()\n",
    "    df['vol_shock'] = (df['Volume'].diff()/df['Volume']) > 0.10\n",
    "    df['vol_shock'] = df['vol_shock'].astype(int)\n",
    "    df.dropna(inplace=True)\n",
    "    df.to_csv('AAPL.csv')\n",
    "# Apply the function to our dataframe\n",
    "generate_features(df)"
   ]
  },
  {
   "cell_type": "markdown",
   "metadata": {},
   "source": [
    "Now that we have our features, let's split this data into a training and testing set. We'll use 70% of data for training and 30% for testing.\n",
    "\n",
    "Also, we will introduce a target variable 'Signal' which would be a binary variable. If next day's closing price is greater than today's closing price then we will mark it as 1, else 0.\n"
   ]
  },
  {
   "cell_type": "code",
   "execution_count": 91,
   "metadata": {},
   "outputs": [],
   "source": [
    "# Define a function to create the target variable\n",
    "def generate_target(df):\n",
    "    df['Signal'] = np.where(df['Close'].shift(-1) > df['Close'], 1, 0)\n",
    "    return df\n",
    "\n",
    "# Apply the function to our dataframe\n",
    "df = generate_target(df)\n",
    "\n",
    "# Drop the 'Adj Close' column\n",
    "df = df.drop('Adj Close', axis=1)\n",
    "\n",
    "# Split the data into training and test sets\n",
    "train = df.iloc[:int(0.7*len(df))]\n",
    "test = df.iloc[int(0.7*len(df)):]\n",
    "\n",
    "X_train = train.drop(['Signal'], axis=1)\n",
    "y_train = train['Signal']\n",
    "X_test = test.drop(['Signal'], axis=1)\n",
    "y_test = test['Signal']"
   ]
  },
  {
   "cell_type": "markdown",
   "metadata": {},
   "source": [
    "Next, let's initialize our RandomForestClassifier and train it on our training data:"
   ]
  },
  {
   "cell_type": "code",
   "execution_count": 92,
   "metadata": {},
   "outputs": [
    {
     "data": {
      "text/html": [
       "<style>#sk-container-id-10 {color: black;}#sk-container-id-10 pre{padding: 0;}#sk-container-id-10 div.sk-toggleable {background-color: white;}#sk-container-id-10 label.sk-toggleable__label {cursor: pointer;display: block;width: 100%;margin-bottom: 0;padding: 0.3em;box-sizing: border-box;text-align: center;}#sk-container-id-10 label.sk-toggleable__label-arrow:before {content: \"▸\";float: left;margin-right: 0.25em;color: #696969;}#sk-container-id-10 label.sk-toggleable__label-arrow:hover:before {color: black;}#sk-container-id-10 div.sk-estimator:hover label.sk-toggleable__label-arrow:before {color: black;}#sk-container-id-10 div.sk-toggleable__content {max-height: 0;max-width: 0;overflow: hidden;text-align: left;background-color: #f0f8ff;}#sk-container-id-10 div.sk-toggleable__content pre {margin: 0.2em;color: black;border-radius: 0.25em;background-color: #f0f8ff;}#sk-container-id-10 input.sk-toggleable__control:checked~div.sk-toggleable__content {max-height: 200px;max-width: 100%;overflow: auto;}#sk-container-id-10 input.sk-toggleable__control:checked~label.sk-toggleable__label-arrow:before {content: \"▾\";}#sk-container-id-10 div.sk-estimator input.sk-toggleable__control:checked~label.sk-toggleable__label {background-color: #d4ebff;}#sk-container-id-10 div.sk-label input.sk-toggleable__control:checked~label.sk-toggleable__label {background-color: #d4ebff;}#sk-container-id-10 input.sk-hidden--visually {border: 0;clip: rect(1px 1px 1px 1px);clip: rect(1px, 1px, 1px, 1px);height: 1px;margin: -1px;overflow: hidden;padding: 0;position: absolute;width: 1px;}#sk-container-id-10 div.sk-estimator {font-family: monospace;background-color: #f0f8ff;border: 1px dotted black;border-radius: 0.25em;box-sizing: border-box;margin-bottom: 0.5em;}#sk-container-id-10 div.sk-estimator:hover {background-color: #d4ebff;}#sk-container-id-10 div.sk-parallel-item::after {content: \"\";width: 100%;border-bottom: 1px solid gray;flex-grow: 1;}#sk-container-id-10 div.sk-label:hover label.sk-toggleable__label {background-color: #d4ebff;}#sk-container-id-10 div.sk-serial::before {content: \"\";position: absolute;border-left: 1px solid gray;box-sizing: border-box;top: 0;bottom: 0;left: 50%;z-index: 0;}#sk-container-id-10 div.sk-serial {display: flex;flex-direction: column;align-items: center;background-color: white;padding-right: 0.2em;padding-left: 0.2em;position: relative;}#sk-container-id-10 div.sk-item {position: relative;z-index: 1;}#sk-container-id-10 div.sk-parallel {display: flex;align-items: stretch;justify-content: center;background-color: white;position: relative;}#sk-container-id-10 div.sk-item::before, #sk-container-id-10 div.sk-parallel-item::before {content: \"\";position: absolute;border-left: 1px solid gray;box-sizing: border-box;top: 0;bottom: 0;left: 50%;z-index: -1;}#sk-container-id-10 div.sk-parallel-item {display: flex;flex-direction: column;z-index: 1;position: relative;background-color: white;}#sk-container-id-10 div.sk-parallel-item:first-child::after {align-self: flex-end;width: 50%;}#sk-container-id-10 div.sk-parallel-item:last-child::after {align-self: flex-start;width: 50%;}#sk-container-id-10 div.sk-parallel-item:only-child::after {width: 0;}#sk-container-id-10 div.sk-dashed-wrapped {border: 1px dashed gray;margin: 0 0.4em 0.5em 0.4em;box-sizing: border-box;padding-bottom: 0.4em;background-color: white;}#sk-container-id-10 div.sk-label label {font-family: monospace;font-weight: bold;display: inline-block;line-height: 1.2em;}#sk-container-id-10 div.sk-label-container {text-align: center;}#sk-container-id-10 div.sk-container {/* jupyter's `normalize.less` sets `[hidden] { display: none; }` but bootstrap.min.css set `[hidden] { display: none !important; }` so we also need the `!important` here to be able to override the default hidden behavior on the sphinx rendered scikit-learn.org. See: https://github.com/scikit-learn/scikit-learn/issues/21755 */display: inline-block !important;position: relative;}#sk-container-id-10 div.sk-text-repr-fallback {display: none;}</style><div id=\"sk-container-id-10\" class=\"sk-top-container\"><div class=\"sk-text-repr-fallback\"><pre>RandomForestClassifier(random_state=1)</pre><b>In a Jupyter environment, please rerun this cell to show the HTML representation or trust the notebook. <br />On GitHub, the HTML representation is unable to render, please try loading this page with nbviewer.org.</b></div><div class=\"sk-container\" hidden><div class=\"sk-item\"><div class=\"sk-estimator sk-toggleable\"><input class=\"sk-toggleable__control sk-hidden--visually\" id=\"sk-estimator-id-10\" type=\"checkbox\" checked><label for=\"sk-estimator-id-10\" class=\"sk-toggleable__label sk-toggleable__label-arrow\">RandomForestClassifier</label><div class=\"sk-toggleable__content\"><pre>RandomForestClassifier(random_state=1)</pre></div></div></div></div></div>"
      ],
      "text/plain": [
       "RandomForestClassifier(random_state=1)"
      ]
     },
     "execution_count": 92,
     "metadata": {},
     "output_type": "execute_result"
    }
   ],
   "source": [
    "# Initialize and train the RandomForestClassifier\n",
    "clf = RandomForestClassifier(n_estimators=100, random_state=1)\n",
    "clf.fit(X_train, y_train)"
   ]
  },
  {
   "cell_type": "markdown",
   "metadata": {},
   "source": [
    "Now, we will move forward to the backtesting part using backtrader. Here we will define our strategy which will use our trained random forest classifier to predict the signal (buy/sell) based on the test data."
   ]
  },
  {
   "cell_type": "code",
   "execution_count": 93,
   "metadata": {},
   "outputs": [],
   "source": [
    "class MLStrategy(bt.Strategy):\n",
    "    params = (\n",
    "        ('maperiod', 15),\n",
    "        ('printlog', False),\n",
    "    )\n",
    "\n",
    "    def log(self, txt, dt=None, doprint=False):\n",
    "        ''' Logging function for this strategy'''\n",
    "        if self.params.printlog or doprint:\n",
    "            dt = dt or self.datas[0].datetime.date(0)\n",
    "            print('%s, %s' % (dt.isoformat(), txt))\n",
    "\n",
    "    def __init__(self):\n",
    "        # To keep track of pending orders and buy price/commission\n",
    "        self.order = None\n",
    "        self.buyprice = None\n",
    "        self.buycomm = None\n",
    "\n",
    "    def notify_order(self, order):\n",
    "        if order.status in [order.Submitted, order.Accepted]:\n",
    "            # Buy/Sell order submitted/accepted to/by broker - Nothing to do\n",
    "            return\n",
    "\n",
    "        # Check if an order has been completed\n",
    "        if order.status in [order.Completed]:\n",
    "            if order.isbuy():\n",
    "                self.log(\n",
    "                    'BUY EXECUTED, Price: %.2f, Cost: %.2f, Comm %.2f' %\n",
    "                    (order.executed.price,\n",
    "                     order.executed.value,\n",
    "                     order.executed.comm))\n",
    "\n",
    "                self.buyprice = order.executed.price\n",
    "                self.buycomm = order.executed.comm\n",
    "            else:  # Sell\n",
    "                self.log('SELL EXECUTED, Price: %.2f, Cost: %.2f, Comm %.2f' %\n",
    "                         (order.executed.price,\n",
    "                          order.executed.value,\n",
    "                          order.executed.comm))\n",
    "\n",
    "            self.bar_executed = len(self)\n",
    "\n",
    "        elif order.status in [order.Canceled, order.Margin, order.Rejected]:\n",
    "            self.log('Order Canceled/Margin/Rejected')\n",
    "\n",
    "        self.order = None\n",
    "\n",
    "    def notify_trade(self, trade):\n",
    "        if not trade.isclosed:\n",
    "            return\n",
    "\n",
    "        self.log('OPERATION PROFIT, GROSS %.2f, NET %.2f' %\n",
    "                 (trade.pnl, trade.pnlcomm))\n",
    "\n",
    "    def next(self):\n",
    "        # Check if an order is pending ... if yes, we cannot send a 2nd one\n",
    "        if self.order:\n",
    "            return\n",
    "\n",
    "        # Create a 1D array with values, excluding the volume shock feature\n",
    "        params = {\n",
    "            'Open': self.datas[0].open[0],\n",
    "            'High': self.datas[0].high[0],\n",
    "            'Low': self.datas[0].low[0],\n",
    "            'Close': self.datas[0].close[0],\n",
    "            'Volume': self.datas[0].volume[0]\n",
    "        }\n",
    "    \n",
    "        # Calculate additional features just like during the training\n",
    "        params['Open-Close'] = (params['Open'] - params['Close']) / params['Open']\n",
    "        params['High-Low'] = (params['High'] - params['Low']) / params['Low']\n",
    "        params['percent_change'] = params['Close'] / self.datas[0].close[-1] - 1\n",
    "        params['vol_shock'] = (params['Volume'] - self.datas[0].volume[-1]) / self.datas[0].volume[-1] > 0.10\n",
    "\n",
    "        # Convert to DataFrame as classifier expects 2D array\n",
    "        params_df = pd.DataFrame([params])\n",
    "        \n",
    "        # Predict the class using the RandomForestClassifier\n",
    "        prediction = clf.predict(params_df)\n",
    "        # Check if we are in the market\n",
    "        if not self.position:\n",
    "            # Buy if the predicted class is 1\n",
    "            if prediction[0] == 1:\n",
    "                self.log('BUY CREATE, %.2f' % self.datas[0].close[0])\n",
    "                self.order = self.buy()\n",
    "        else:\n",
    "            # Sell if the predicted class is 0\n",
    "            if prediction[0] == 0:\n",
    "                self.log('SELL CREATE, %.2f' % self.datas[0].close[0])\n",
    "                self.order = self.sell()\n",
    "\n",
    "    def stop(self):\n",
    "        self.log('Ending Value %.2f' % self.broker.getvalue(), doprint=True)\n"
   ]
  },
  {
   "cell_type": "markdown",
   "metadata": {},
   "source": [
    "We can proceed to run our backtesting using backtrader's Cerebro engine. Cerebro engine is where all the components we've prepared get executed.\n",
    "\n",
    "This will run the backtesting for the 'AAPL' stock for the date range we previously set, starting with a portfolio value of $100,000. The script logs the details of each transaction and the final portfolio value."
   ]
  },
  {
   "cell_type": "code",
   "execution_count": 94,
   "metadata": {},
   "outputs": [
    {
     "name": "stdout",
     "output_type": "stream",
     "text": [
      "Starting Portfolio Value: 100000.00\n",
      "2023-07-06, Ending Value 101240.08\n",
      "Final Portfolio Value: 101240.08\n"
     ]
    }
   ],
   "source": [
    "# Create a cerebro entity\n",
    "cerebro = bt.Cerebro()\n",
    "\n",
    "# Add a strategy\n",
    "cerebro.addstrategy(MLStrategy)\n",
    "\n",
    "# Create a Data Feed\n",
    "data = bt.feeds.YahooFinanceCSVData(\n",
    "    dataname='AAPL.csv', \n",
    "    fromdate=start_date,\n",
    "    todate=end_date,\n",
    "    reverse=False\n",
    ")\n",
    "\n",
    "# Add the Data Feed to Cerebro\n",
    "cerebro.adddata(data)\n",
    "\n",
    "# Set our desired cash start\n",
    "cerebro.broker.setcash(100000.0)\n",
    "\n",
    "# Add a FixedSize sizer according to the stake\n",
    "cerebro.addsizer(bt.sizers.FixedSize, stake=10)\n",
    "\n",
    "# Set the commission\n",
    "cerebro.broker.setcommission(commission=0.001)\n",
    "\n",
    "# Print out the starting conditions\n",
    "print('Starting Portfolio Value: %.2f' % cerebro.broker.getvalue())\n",
    "\n",
    "# Run over everything\n",
    "cerebro.run()\n",
    "\n",
    "# Print out the final result\n",
    "print('Final Portfolio Value: %.2f' % cerebro.broker.getvalue())\n"
   ]
  }
 ],
 "metadata": {
  "kernelspec": {
   "display_name": "stockanalysis",
   "language": "python",
   "name": "python3"
  },
  "language_info": {
   "codemirror_mode": {
    "name": "ipython",
    "version": 3
   },
   "file_extension": ".py",
   "mimetype": "text/x-python",
   "name": "python",
   "nbconvert_exporter": "python",
   "pygments_lexer": "ipython3",
   "version": "3.11.4"
  },
  "orig_nbformat": 4
 },
 "nbformat": 4,
 "nbformat_minor": 2
}
